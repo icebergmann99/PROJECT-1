{
 "cells": [
  {
   "cell_type": "code",
   "execution_count": null,
   "metadata": {},
   "outputs": [],
   "source": [
    "import pandas as pd\n",
    "import numpy as np\n",
    "\n",
    "# The path to our CSV file\n",
    "file = \"Resources/nashville-crash-data-deer.csv\"\n",
    "\n",
    "# Read our CSV data into pandas\n",
    "df = pd.read_csv(file)\n",
    "df.head()"
   ]
  },
  {
   "cell_type": "code",
   "execution_count": null,
   "metadata": {},
   "outputs": [],
   "source": [
    "#Get row count for each column\n",
    "df.count()"
   ]
  },
  {
   "cell_type": "code",
   "execution_count": null,
   "metadata": {},
   "outputs": [],
   "source": [
    "#Drop nan or blank only in date/time column\n",
    "df['Date and Time'].dropna()"
   ]
  },
  {
   "cell_type": "code",
   "execution_count": null,
   "metadata": {},
   "outputs": [],
   "source": [
    "#Split date/time into separate date and time columns\n",
    "new= df[\"Date and Time\"].str.split(\" \", expand = True)\n",
    "df[\"Date\"] = new[0]\n",
    "df[\"Time\"] = new[1]+new[2]\n",
    "new.head(), df.head()"
   ]
  },
  {
   "cell_type": "code",
   "execution_count": null,
   "metadata": {},
   "outputs": [],
   "source": [
    "#Remove any rows dated before 2010\n",
    "reduced_df = df.loc[(\n",
    "    pd.to_datetime(df[\"Date\"]) > pd.Timestamp('12/31/2009'))]\n",
    "#reduced_df.count()\n",
    "reduced_df.info()\n",
    "#reduced_df.describe()"
   ]
  },
  {
   "cell_type": "code",
   "execution_count": null,
   "metadata": {},
   "outputs": [],
   "source": [
    "index = reduced_df.index\n",
    "columns = reduced_df.columns\n",
    "values = reduced_df.values\n",
    "\n",
    "index\n",
    "#columns\n",
    "#values\n",
    "\n"
   ]
  },
  {
   "cell_type": "code",
   "execution_count": null,
   "metadata": {},
   "outputs": [],
   "source": [
    "type(index)"
   ]
  },
  {
   "cell_type": "code",
   "execution_count": null,
   "metadata": {},
   "outputs": [],
   "source": [
    "#pull out deer crashes [Harmful Code 50]\n",
    "reduced_df.set_index(['Harmful Code'])\n",
    "deer_df = reduced_df.loc[\"Harmful Code\" == 50]\n",
    "#deer_df[df['Harmful Code'] == '50']\n",
    "#type(columns)\n",
    "#deer_df['Harmful Code']='50'"
   ]
  },
  {
   "cell_type": "code",
   "execution_count": null,
   "metadata": {},
   "outputs": [],
   "source": []
  },
  {
   "cell_type": "code",
   "execution_count": null,
   "metadata": {},
   "outputs": [],
   "source": []
  }
 ],
 "metadata": {
  "kernelspec": {
   "display_name": "Python 3",
   "language": "python",
   "name": "python3"
  },
  "language_info": {
   "codemirror_mode": {
    "name": "ipython",
    "version": 3
   },
   "file_extension": ".py",
   "mimetype": "text/x-python",
   "name": "python",
   "nbconvert_exporter": "python",
   "pygments_lexer": "ipython3",
   "version": "3.6.9"
  }
 },
 "nbformat": 4,
 "nbformat_minor": 2
}
