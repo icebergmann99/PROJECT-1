{
 "cells": [
  {
   "cell_type": "code",
   "execution_count": 1,
   "metadata": {},
   "outputs": [
    {
     "name": "stdout",
     "output_type": "stream",
     "text": [
      "<class 'pandas.core.frame.DataFrame'>\n",
      "RangeIndex: 2237 entries, 0 to 2236\n",
      "Data columns (total 29 columns):\n",
      "Unnamed: 0                    2237 non-null int64\n",
      "Accident Number               2237 non-null int64\n",
      "Date and Time                 2237 non-null datetime64[ns]\n",
      "Number of Motor Vehicles      2236 non-null float64\n",
      "Number of Injuries            2237 non-null int64\n",
      "Number of Fatalities          2237 non-null int64\n",
      "Property Damage               906 non-null object\n",
      "Hit and Run                   2237 non-null object\n",
      "Reporting Officer             2237 non-null object\n",
      "Collision Type Code           2237 non-null int64\n",
      "Collision Type Description    2237 non-null object\n",
      "Weather Code                  2237 non-null int64\n",
      "Weather Description           2237 non-null object\n",
      "Illumination Code             2232 non-null float64\n",
      "Illumination Description      2232 non-null object\n",
      "Harmful Code                  2237 non-null object\n",
      "Harmful Code Description      2237 non-null object\n",
      "Street Address                2237 non-null object\n",
      "City                          2193 non-null object\n",
      "State                         2210 non-null object\n",
      "ZIP                           2208 non-null float64\n",
      "RPA                           2195 non-null float64\n",
      "Precinct                      2202 non-null object\n",
      "Latitude                      2237 non-null float64\n",
      "Longitude                     2237 non-null float64\n",
      "Mapped Location               2237 non-null object\n",
      "month_year                    2237 non-null object\n",
      "Year                          2237 non-null int64\n",
      "Month                         2237 non-null int64\n",
      "dtypes: datetime64[ns](1), float64(6), int64(8), object(14)\n",
      "memory usage: 506.9+ KB\n"
     ]
    }
   ],
   "source": [
    "import pandas as pd\n",
    "import numpy as np\n",
    "import matplotlib.pyplot as plt\n",
    "from matplotlib.dates import DateFormatter\n",
    "import matplotlib.dates as mdates\n",
    "import datetime as dt\n",
    "\n",
    "\n",
    "# The path to our CSV file\n",
    "file = \"Resources/nashville-crash-data-deer-clean.csv\"\n",
    "\n",
    "# Read our CSV data into pandas\n",
    "df = pd.read_csv(file, parse_dates = ['Date and Time'],na_values=['NA', ' ', '-999'])\n",
    "\n",
    "df.info()"
   ]
  },
  {
   "cell_type": "code",
   "execution_count": 2,
   "metadata": {},
   "outputs": [],
   "source": [
    "import gmplot\n"
   ]
  },
  {
   "cell_type": "code",
   "execution_count": 5,
   "metadata": {},
   "outputs": [],
   "source": [
    "latitude_list = df[\"Latitude\"].tolist()\n",
    "longitude_list = df[\"Longitude\"].tolist()\n",
    "gmapall = gmplot.GoogleMapPlotter(36.1960, -86.7994, 10)\n",
    "# heatmap plot heating Type\n",
    "# points on the Google map\n",
    "gmapall.heatmap( latitude_list, longitude_list )\n",
    "gmapall.draw(\"Output\\map_deer.html\" )"
   ]
  },
  {
   "cell_type": "code",
   "execution_count": null,
   "metadata": {},
   "outputs": [],
   "source": []
  }
 ],
 "metadata": {
  "kernelspec": {
   "display_name": "Python 3",
   "language": "python",
   "name": "python3"
  },
  "language_info": {
   "codemirror_mode": {
    "name": "ipython",
    "version": 3
   },
   "file_extension": ".py",
   "mimetype": "text/x-python",
   "name": "python",
   "nbconvert_exporter": "python",
   "pygments_lexer": "ipython3",
   "version": "3.7.3"
  }
 },
 "nbformat": 4,
 "nbformat_minor": 2
}
